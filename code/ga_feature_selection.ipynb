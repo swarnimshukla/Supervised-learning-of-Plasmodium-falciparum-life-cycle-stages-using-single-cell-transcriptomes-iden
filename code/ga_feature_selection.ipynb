{
 "cells": [
  {
   "cell_type": "code",
   "execution_count": null,
   "id": "deaf336a-a2af-4f09-adcb-8a3c76f390dc",
   "metadata": {},
   "outputs": [],
   "source": [
    "import pandas as pd\n",
    "from sklearn.model_selection import train_test_split\n",
    "from sklearn.metrics import *\n",
    "from sklearn.svm import SVC\n",
    "from sklearn.metrics import classification_report\n",
    "from sklearn.linear_model import LogisticRegression\n",
    "from sklearn.ensemble import RandomForestClassifier"
   ]
  },
  {
   "cell_type": "code",
   "execution_count": null,
   "id": "99c52335-d89e-471d-a893-699a542bb487",
   "metadata": {},
   "outputs": [],
   "source": [
    "df1 = pd.read_csv('pf10xIDC_pheno.csv')\n",
    "df2 = pd.read_csv('pf10xIDC_counts.csv')\n",
    "\n",
    "\n",
    "feature_names = df2.iloc[:, 0].tolist()\n",
    "\n",
    "df2 = df2.drop(df2.columns[0], axis=1)\n",
    "# feature_names\n",
    "df2\n",
    "\n"
   ]
  },
  {
   "cell_type": "code",
   "execution_count": null,
   "id": "248835bb-35d9-483c-bf3f-01ca083000a2",
   "metadata": {},
   "outputs": [],
   "source": [
    "X = []\n",
    "for (columnName, columnData) in df2.iteritems():\n",
    "    X.append(columnData.values.tolist())\n",
    "Y = df1.bulk\n",
    "len(Y)"
   ]
  },
  {
   "cell_type": "code",
   "execution_count": null,
   "id": "cbfcf924-2b65-4d0e-bfa0-8a220e709c22",
   "metadata": {},
   "outputs": [],
   "source": [
    "df = pd.DataFrame(X, columns = feature_names)"
   ]
  },
  {
   "cell_type": "code",
   "execution_count": null,
   "id": "0e6586ff-4e0e-43b6-966b-e9e7a3e6c239",
   "metadata": {},
   "outputs": [],
   "source": [
    "# x = df.values.tolist()\n",
    "# print(x == X)"
   ]
  },
  {
   "cell_type": "code",
   "execution_count": null,
   "id": "7d279fd9-8908-47a3-92c4-c0115c853ebe",
   "metadata": {},
   "outputs": [],
   "source": [
    "df['bulk'] = Y"
   ]
  },
  {
   "cell_type": "code",
   "execution_count": null,
   "id": "89a5f6fc-fa15-43c9-bb51-6f8c36e42090",
   "metadata": {},
   "outputs": [],
   "source": [
    "mcc = make_scorer(matthews_corrcoef)"
   ]
  },
  {
   "cell_type": "code",
   "execution_count": null,
   "id": "2eca7e2b-1fdd-46f2-a588-a8912ea6cd1d",
   "metadata": {},
   "outputs": [],
   "source": [
    "x = df.drop(['bulk'], axis=1)"
   ]
  },
  {
   "cell_type": "code",
   "execution_count": null,
   "id": "f5795347-19cc-4ec4-b561-fd608c367013",
   "metadata": {},
   "outputs": [],
   "source": [
    "x"
   ]
  },
  {
   "cell_type": "code",
   "execution_count": null,
   "id": "89b1c348-00c0-44ea-974b-e34885cc4adc",
   "metadata": {},
   "outputs": [],
   "source": [
    "y = df['bulk']\n",
    "X_train, X_test, Y_train, Y_test = train_test_split(x, y, test_size = 0.2, stratify = y)\n",
    "X_train\n",
    "Y_test"
   ]
  },
  {
   "cell_type": "code",
   "execution_count": null,
   "id": "14367d1b-c257-4975-8101-aaefac428e94",
   "metadata": {},
   "outputs": [],
   "source": [
    "from sklearn.linear_model import LogisticRegression\n",
    "from sklearn.ensemble import RandomForestClassifier\n",
    "from genetic_selection import GeneticSelectionCV"
   ]
  },
  {
   "cell_type": "code",
   "execution_count": null,
   "id": "c41e0d55-e3c3-4cda-8674-d1c8bc1a8ce0",
   "metadata": {},
   "outputs": [],
   "source": [
    "estimator = RandomForestClassifier()\n",
    "# gene = []"
   ]
  },
  {
   "cell_type": "code",
   "execution_count": null,
   "id": "c521204b-9f65-49ec-b3c1-568bf434b44a",
   "metadata": {},
   "outputs": [],
   "source": [
    "\n",
    "for i in range(500, 800):\n",
    "    selector = GeneticSelectionCV(estimator,\n",
    "                                cv = 5,\n",
    "                                verbose = 1,\n",
    "                                scoring = mcc,\n",
    "                                max_features = i,\n",
    "                                n_population = 5,\n",
    "                                crossover_proba = 0.5,\n",
    "                                mutation_proba = 0.2,\n",
    "                                n_generations = 2,\n",
    "                                crossover_independent_proba=0.5,\n",
    "                                mutation_independent_proba=0.05,\n",
    "                                n_gen_no_change= 20,\n",
    "                                caching=True,\n",
    "                                n_jobs=-1)  \n",
    "    selector = selector.fit(X_train, Y_train)\n",
    "    gene = X_train.columns[selector.support_]\n",
    "#     print(len(gene))\n",
    "#     for j in gene:\n",
    "#         print(j, end = \" \")\n",
    "    selected_features = X_train[X_train.columns[selector.support_]]\n",
    "#     print(\"Features selected from GA\")\n",
    "#     print(selected_features)\n",
    "    X_test_temp = X_test[X_train.columns[selector.support_]]\n",
    "    selected_X = selected_features.values.tolist()\n",
    "    selected_Y = Y_train\n",
    "    \n",
    "    \n",
    "    print(\"SVM Model\")\n",
    "    model = SVC()\n",
    "    model.fit(selected_X, selected_Y)\n",
    "    y_pred = model.predict(X_test_temp)\n",
    "    arr = f1_score(Y_test, y_pred, average = None)\n",
    "\n",
    "    print(classification_report(Y_test, y_pred))\n",
    "    \n",
    "    print(\"LR Model\")\n",
    "    clf = LogisticRegression( multi_class= 'ovr').fit(selected_X, selected_Y)\n",
    "    y_pred_log = clf.predict(X_test_temp)\n",
    "    print(classification_report(Y_test, y_pred))\n",
    "        \n",
    "    print(\"RF Model\")\n",
    "    RF = RandomForestClassifier()\n",
    "    RF.fit(selected_X,selected_Y)\n",
    "    y_pred_RF = RF.predict(X_test_temp)\n",
    "    print(classification_report(Y_test, y_pred))\n",
    "    \n",
    "    \n"
   ]
  }
 ],
 "metadata": {
  "kernelspec": {
   "display_name": "Python 3 (ipykernel)",
   "language": "python",
   "name": "python3"
  },
  "language_info": {
   "codemirror_mode": {
    "name": "ipython",
    "version": 3
   },
   "file_extension": ".py",
   "mimetype": "text/x-python",
   "name": "python",
   "nbconvert_exporter": "python",
   "pygments_lexer": "ipython3",
   "version": "3.8.11"
  }
 },
 "nbformat": 4,
 "nbformat_minor": 5
}
